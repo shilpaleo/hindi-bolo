{
 "cells": [
  {
   "cell_type": "code",
   "execution_count": 1,
   "metadata": {},
   "outputs": [],
   "source": [
    "# Import libraries\n",
    "import os # file system operations\n",
    "\n",
    "from dotenv import load_dotenv # loading env variables from .env file\n",
    "from openai import OpenAI # openai api for translation and image generation\n",
    "from pydantic import BaseModel #create structured output from API\n",
    "\n",
    "from PIL import Image # image processing operations\n",
    "import requests # http web operations\n",
    "from io import BytesIO # image manipulation, binary data handling\n",
    "\n",
    "from tqdm import tqdm # monitor progress of model operations\n",
    "import json # convert json string to python dictionary\n",
    "import time # to add delay to work around API rate limit error"
   ]
  },
  {
   "cell_type": "code",
   "execution_count": 2,
   "metadata": {},
   "outputs": [],
   "source": [
    "# Load environment variable (OpenAI API key) from .env file\n",
    "load_dotenv()\n",
    "\n",
    "# Set up OpenAI client\n",
    "client = OpenAI()"
   ]
  },
  {
   "cell_type": "code",
   "execution_count": 3,
   "metadata": {},
   "outputs": [],
   "source": [
    "# Define simple topic-hindiwords dictionary\n",
    "topics = {\n",
    "    \"Animals\": [\"बिल्ली\", \"कुत्ता\", \"हाथी\", \"जिराफ\", \"खरगोश\"],\n",
    "    \"Fruits\": [\"सेब\", \"केला\", \"चेरी\", \"अंगूर\", \"संतरा\"],\n",
    "    \"Vehicles\": [\"कार\", \"बाइक\", \"विमान\", \"जहाज\",\"बस\"],\n",
    "    \"Things\": [\"किताब\", \"कुर्सी\", \"टेबल\", \"पेंसिल\", \"घड़ी\"],\n",
    "    \"Places\": [\"स्कूल\", \"घर\", \"पार्क\", \"हॉस्पिटल\", \"पुस्तकालय\"]\n",
    "}"
   ]
  },
  {
   "cell_type": "markdown",
   "metadata": {},
   "source": [
    "Step 1 - Translation:\n",
    "1. Input: Hindi word values from `topics` dictionary\n",
    "2. Output: English translated words using [OpenAI Chat Completions API](https://platform.openai.com/docs/guides/chat-completions)\n",
    "\n",
    "    _Model used_: `gpt-4o-mini` as it is light weight, lesser cost and faster, for simpler use case. "
   ]
  },
  {
   "cell_type": "code",
   "execution_count": 4,
   "metadata": {},
   "outputs": [],
   "source": [
    "# Defining structured output from API with Pydantic object\n",
    "class HindiResponse(BaseModel):\n",
    "    english_text: list[str]\n",
    "\n",
    "# Function to use OpenAI Chat Completions endpoint for translation based on prompt\n",
    "def translate_text(text, topic):\n",
    "    response = client.beta.chat.completions.parse(\n",
    "        model=\"gpt-4o-mini\",\n",
    "        messages=[\n",
    "            {\"role\": \"system\", \"content\": f\"Translate the list of user words from Hindi to English. Once translated, ensure the words are returned in the same order as user input. The words in the list belongs to the topic: {topic}\"},\n",
    "            {\"role\": \"user\", \"content\": f\"{text}\"}\n",
    "        ], response_format=HindiResponse \n",
    "    )\n",
    "    return json.loads(response.choices[0].message.content)['english_text']"
   ]
  },
  {
   "cell_type": "code",
   "execution_count": 5,
   "metadata": {},
   "outputs": [
    {
     "name": "stderr",
     "output_type": "stream",
     "text": [
      "100%|██████████| 5/5 [00:18<00:00,  3.73s/it]\n"
     ]
    },
    {
     "data": {
      "text/plain": [
       "{'Animals': ['Cat', 'Dog', 'Elephant', 'Giraffe', 'Rabbit'],\n",
       " 'Fruits': ['Apple', 'Banana', 'Cherry', 'Grapes', 'Orange'],\n",
       " 'Vehicles': ['Car', 'Bike', 'Airplane', 'Ship', 'Bus'],\n",
       " 'Things': ['Book', 'Chair', 'Table', 'Pencil', 'Watch'],\n",
       " 'Places': ['School', 'House', 'Park', 'Hospital', 'Library']}"
      ]
     },
     "execution_count": 5,
     "metadata": {},
     "output_type": "execute_result"
    }
   ],
   "source": [
    "# Call Chat Completions function for Translation from Hindi to English\n",
    "translated_topics = {}\n",
    "\n",
    "for topic, words_list in tqdm(topics.items()):\n",
    "    translated_topics[topic] = translate_text(words_list, topic)\n",
    "    translated_topics[topic] = [word.title() for word in translated_topics[topic]]\n",
    "\n",
    "translated_topics"
   ]
  },
  {
   "cell_type": "markdown",
   "metadata": {},
   "source": [
    "Step 2 - Image Generation:\n",
    "1. Input: English translated word values from `translated_topics` dictionary as text prompts\n",
    "2. Output: Images created from text prompt using [OpenAI Image Generation API](https://platform.openai.com/docs/guides/images/usage)\n",
    "\n",
    "    _Model used_: `dall-e-2` (default option) as it allows returning smallest size image of dimension 256x256 (smallest image size for `dall-e-3` based on OpenAI documentation is 1024x1024) and has flexibility to return multiple images per prompt, allowing review and selection of one best option for downstream app consumption. "
   ]
  },
  {
   "cell_type": "code",
   "execution_count": 6,
   "metadata": {},
   "outputs": [
    {
     "name": "stderr",
     "output_type": "stream",
     "text": [
      "  0%|          | 0/5 [00:00<?, ?it/s]"
     ]
    },
    {
     "name": "stdout",
     "output_type": "stream",
     "text": [
      "Saved image 1 for word 'Cat' in topic 'Animals' to ./generated_images/Animals/generated_image_Cat_1.png\n",
      "Saved image 2 for word 'Cat' in topic 'Animals' to ./generated_images/Animals/generated_image_Cat_2.png\n",
      "Saved image 3 for word 'Cat' in topic 'Animals' to ./generated_images/Animals/generated_image_Cat_3.png\n",
      "Saved image 4 for word 'Cat' in topic 'Animals' to ./generated_images/Animals/generated_image_Cat_4.png\n",
      "Saved image 5 for word 'Cat' in topic 'Animals' to ./generated_images/Animals/generated_image_Cat_5.png\n",
      "Saved image 1 for word 'Dog' in topic 'Animals' to ./generated_images/Animals/generated_image_Dog_1.png\n",
      "Saved image 2 for word 'Dog' in topic 'Animals' to ./generated_images/Animals/generated_image_Dog_2.png\n",
      "Saved image 3 for word 'Dog' in topic 'Animals' to ./generated_images/Animals/generated_image_Dog_3.png\n",
      "Saved image 4 for word 'Dog' in topic 'Animals' to ./generated_images/Animals/generated_image_Dog_4.png\n",
      "Saved image 5 for word 'Dog' in topic 'Animals' to ./generated_images/Animals/generated_image_Dog_5.png\n",
      "Saved image 1 for word 'Elephant' in topic 'Animals' to ./generated_images/Animals/generated_image_Elephant_1.png\n",
      "Saved image 2 for word 'Elephant' in topic 'Animals' to ./generated_images/Animals/generated_image_Elephant_2.png\n",
      "Saved image 3 for word 'Elephant' in topic 'Animals' to ./generated_images/Animals/generated_image_Elephant_3.png\n",
      "Saved image 4 for word 'Elephant' in topic 'Animals' to ./generated_images/Animals/generated_image_Elephant_4.png\n",
      "Saved image 5 for word 'Elephant' in topic 'Animals' to ./generated_images/Animals/generated_image_Elephant_5.png\n",
      "Saved image 1 for word 'Giraffe' in topic 'Animals' to ./generated_images/Animals/generated_image_Giraffe_1.png\n",
      "Saved image 2 for word 'Giraffe' in topic 'Animals' to ./generated_images/Animals/generated_image_Giraffe_2.png\n",
      "Saved image 3 for word 'Giraffe' in topic 'Animals' to ./generated_images/Animals/generated_image_Giraffe_3.png\n",
      "Saved image 4 for word 'Giraffe' in topic 'Animals' to ./generated_images/Animals/generated_image_Giraffe_4.png\n",
      "Saved image 5 for word 'Giraffe' in topic 'Animals' to ./generated_images/Animals/generated_image_Giraffe_5.png\n",
      "Saved image 1 for word 'Rabbit' in topic 'Animals' to ./generated_images/Animals/generated_image_Rabbit_1.png\n",
      "Saved image 2 for word 'Rabbit' in topic 'Animals' to ./generated_images/Animals/generated_image_Rabbit_2.png\n",
      "Saved image 3 for word 'Rabbit' in topic 'Animals' to ./generated_images/Animals/generated_image_Rabbit_3.png\n",
      "Saved image 4 for word 'Rabbit' in topic 'Animals' to ./generated_images/Animals/generated_image_Rabbit_4.png\n",
      "Saved image 5 for word 'Rabbit' in topic 'Animals' to ./generated_images/Animals/generated_image_Rabbit_5.png\n"
     ]
    },
    {
     "name": "stderr",
     "output_type": "stream",
     "text": [
      " 20%|██        | 1/5 [06:45<27:02, 405.71s/it]"
     ]
    },
    {
     "name": "stdout",
     "output_type": "stream",
     "text": [
      "Saved image 1 for word 'Apple' in topic 'Fruits' to ./generated_images/Fruits/generated_image_Apple_1.png\n",
      "Saved image 2 for word 'Apple' in topic 'Fruits' to ./generated_images/Fruits/generated_image_Apple_2.png\n",
      "Saved image 3 for word 'Apple' in topic 'Fruits' to ./generated_images/Fruits/generated_image_Apple_3.png\n",
      "Saved image 4 for word 'Apple' in topic 'Fruits' to ./generated_images/Fruits/generated_image_Apple_4.png\n",
      "Saved image 5 for word 'Apple' in topic 'Fruits' to ./generated_images/Fruits/generated_image_Apple_5.png\n",
      "Saved image 1 for word 'Banana' in topic 'Fruits' to ./generated_images/Fruits/generated_image_Banana_1.png\n",
      "Saved image 2 for word 'Banana' in topic 'Fruits' to ./generated_images/Fruits/generated_image_Banana_2.png\n",
      "Saved image 3 for word 'Banana' in topic 'Fruits' to ./generated_images/Fruits/generated_image_Banana_3.png\n",
      "Saved image 4 for word 'Banana' in topic 'Fruits' to ./generated_images/Fruits/generated_image_Banana_4.png\n",
      "Saved image 5 for word 'Banana' in topic 'Fruits' to ./generated_images/Fruits/generated_image_Banana_5.png\n",
      "Saved image 1 for word 'Cherry' in topic 'Fruits' to ./generated_images/Fruits/generated_image_Cherry_1.png\n",
      "Saved image 2 for word 'Cherry' in topic 'Fruits' to ./generated_images/Fruits/generated_image_Cherry_2.png\n",
      "Saved image 3 for word 'Cherry' in topic 'Fruits' to ./generated_images/Fruits/generated_image_Cherry_3.png\n",
      "Saved image 4 for word 'Cherry' in topic 'Fruits' to ./generated_images/Fruits/generated_image_Cherry_4.png\n",
      "Saved image 5 for word 'Cherry' in topic 'Fruits' to ./generated_images/Fruits/generated_image_Cherry_5.png\n",
      "Saved image 1 for word 'Grapes' in topic 'Fruits' to ./generated_images/Fruits/generated_image_Grapes_1.png\n",
      "Saved image 2 for word 'Grapes' in topic 'Fruits' to ./generated_images/Fruits/generated_image_Grapes_2.png\n",
      "Saved image 3 for word 'Grapes' in topic 'Fruits' to ./generated_images/Fruits/generated_image_Grapes_3.png\n",
      "Saved image 4 for word 'Grapes' in topic 'Fruits' to ./generated_images/Fruits/generated_image_Grapes_4.png\n",
      "Saved image 5 for word 'Grapes' in topic 'Fruits' to ./generated_images/Fruits/generated_image_Grapes_5.png\n",
      "Saved image 1 for word 'Orange' in topic 'Fruits' to ./generated_images/Fruits/generated_image_Orange_1.png\n",
      "Saved image 2 for word 'Orange' in topic 'Fruits' to ./generated_images/Fruits/generated_image_Orange_2.png\n",
      "Saved image 3 for word 'Orange' in topic 'Fruits' to ./generated_images/Fruits/generated_image_Orange_3.png\n",
      "Saved image 4 for word 'Orange' in topic 'Fruits' to ./generated_images/Fruits/generated_image_Orange_4.png\n",
      "Saved image 5 for word 'Orange' in topic 'Fruits' to ./generated_images/Fruits/generated_image_Orange_5.png\n"
     ]
    },
    {
     "name": "stderr",
     "output_type": "stream",
     "text": [
      " 40%|████      | 2/5 [13:32<20:19, 406.50s/it]"
     ]
    },
    {
     "name": "stdout",
     "output_type": "stream",
     "text": [
      "Saved image 1 for word 'Car' in topic 'Vehicles' to ./generated_images/Vehicles/generated_image_Car_1.png\n",
      "Saved image 2 for word 'Car' in topic 'Vehicles' to ./generated_images/Vehicles/generated_image_Car_2.png\n",
      "Saved image 3 for word 'Car' in topic 'Vehicles' to ./generated_images/Vehicles/generated_image_Car_3.png\n",
      "Saved image 4 for word 'Car' in topic 'Vehicles' to ./generated_images/Vehicles/generated_image_Car_4.png\n",
      "Saved image 5 for word 'Car' in topic 'Vehicles' to ./generated_images/Vehicles/generated_image_Car_5.png\n",
      "Saved image 1 for word 'Bike' in topic 'Vehicles' to ./generated_images/Vehicles/generated_image_Bike_1.png\n",
      "Saved image 2 for word 'Bike' in topic 'Vehicles' to ./generated_images/Vehicles/generated_image_Bike_2.png\n",
      "Saved image 3 for word 'Bike' in topic 'Vehicles' to ./generated_images/Vehicles/generated_image_Bike_3.png\n",
      "Saved image 4 for word 'Bike' in topic 'Vehicles' to ./generated_images/Vehicles/generated_image_Bike_4.png\n",
      "Saved image 5 for word 'Bike' in topic 'Vehicles' to ./generated_images/Vehicles/generated_image_Bike_5.png\n",
      "Saved image 1 for word 'Airplane' in topic 'Vehicles' to ./generated_images/Vehicles/generated_image_Airplane_1.png\n",
      "Saved image 2 for word 'Airplane' in topic 'Vehicles' to ./generated_images/Vehicles/generated_image_Airplane_2.png\n",
      "Saved image 3 for word 'Airplane' in topic 'Vehicles' to ./generated_images/Vehicles/generated_image_Airplane_3.png\n",
      "Saved image 4 for word 'Airplane' in topic 'Vehicles' to ./generated_images/Vehicles/generated_image_Airplane_4.png\n",
      "Saved image 5 for word 'Airplane' in topic 'Vehicles' to ./generated_images/Vehicles/generated_image_Airplane_5.png\n",
      "Saved image 1 for word 'Ship' in topic 'Vehicles' to ./generated_images/Vehicles/generated_image_Ship_1.png\n",
      "Saved image 2 for word 'Ship' in topic 'Vehicles' to ./generated_images/Vehicles/generated_image_Ship_2.png\n",
      "Saved image 3 for word 'Ship' in topic 'Vehicles' to ./generated_images/Vehicles/generated_image_Ship_3.png\n",
      "Saved image 4 for word 'Ship' in topic 'Vehicles' to ./generated_images/Vehicles/generated_image_Ship_4.png\n",
      "Saved image 5 for word 'Ship' in topic 'Vehicles' to ./generated_images/Vehicles/generated_image_Ship_5.png\n",
      "Saved image 1 for word 'Bus' in topic 'Vehicles' to ./generated_images/Vehicles/generated_image_Bus_1.png\n",
      "Saved image 2 for word 'Bus' in topic 'Vehicles' to ./generated_images/Vehicles/generated_image_Bus_2.png\n",
      "Saved image 3 for word 'Bus' in topic 'Vehicles' to ./generated_images/Vehicles/generated_image_Bus_3.png\n",
      "Saved image 4 for word 'Bus' in topic 'Vehicles' to ./generated_images/Vehicles/generated_image_Bus_4.png\n",
      "Saved image 5 for word 'Bus' in topic 'Vehicles' to ./generated_images/Vehicles/generated_image_Bus_5.png\n"
     ]
    },
    {
     "name": "stderr",
     "output_type": "stream",
     "text": [
      " 60%|██████    | 3/5 [20:19<13:32, 406.42s/it]"
     ]
    },
    {
     "name": "stdout",
     "output_type": "stream",
     "text": [
      "Saved image 1 for word 'Book' in topic 'Things' to ./generated_images/Things/generated_image_Book_1.png\n",
      "Saved image 2 for word 'Book' in topic 'Things' to ./generated_images/Things/generated_image_Book_2.png\n",
      "Saved image 3 for word 'Book' in topic 'Things' to ./generated_images/Things/generated_image_Book_3.png\n",
      "Saved image 4 for word 'Book' in topic 'Things' to ./generated_images/Things/generated_image_Book_4.png\n",
      "Saved image 5 for word 'Book' in topic 'Things' to ./generated_images/Things/generated_image_Book_5.png\n",
      "Saved image 1 for word 'Chair' in topic 'Things' to ./generated_images/Things/generated_image_Chair_1.png\n",
      "Saved image 2 for word 'Chair' in topic 'Things' to ./generated_images/Things/generated_image_Chair_2.png\n",
      "Saved image 3 for word 'Chair' in topic 'Things' to ./generated_images/Things/generated_image_Chair_3.png\n",
      "Saved image 4 for word 'Chair' in topic 'Things' to ./generated_images/Things/generated_image_Chair_4.png\n",
      "Saved image 5 for word 'Chair' in topic 'Things' to ./generated_images/Things/generated_image_Chair_5.png\n",
      "Saved image 1 for word 'Table' in topic 'Things' to ./generated_images/Things/generated_image_Table_1.png\n",
      "Saved image 2 for word 'Table' in topic 'Things' to ./generated_images/Things/generated_image_Table_2.png\n",
      "Saved image 3 for word 'Table' in topic 'Things' to ./generated_images/Things/generated_image_Table_3.png\n",
      "Saved image 4 for word 'Table' in topic 'Things' to ./generated_images/Things/generated_image_Table_4.png\n",
      "Saved image 5 for word 'Table' in topic 'Things' to ./generated_images/Things/generated_image_Table_5.png\n",
      "Saved image 1 for word 'Pencil' in topic 'Things' to ./generated_images/Things/generated_image_Pencil_1.png\n",
      "Saved image 2 for word 'Pencil' in topic 'Things' to ./generated_images/Things/generated_image_Pencil_2.png\n",
      "Saved image 3 for word 'Pencil' in topic 'Things' to ./generated_images/Things/generated_image_Pencil_3.png\n",
      "Saved image 4 for word 'Pencil' in topic 'Things' to ./generated_images/Things/generated_image_Pencil_4.png\n",
      "Saved image 5 for word 'Pencil' in topic 'Things' to ./generated_images/Things/generated_image_Pencil_5.png\n",
      "Saved image 1 for word 'Watch' in topic 'Things' to ./generated_images/Things/generated_image_Watch_1.png\n",
      "Saved image 2 for word 'Watch' in topic 'Things' to ./generated_images/Things/generated_image_Watch_2.png\n",
      "Saved image 3 for word 'Watch' in topic 'Things' to ./generated_images/Things/generated_image_Watch_3.png\n",
      "Saved image 4 for word 'Watch' in topic 'Things' to ./generated_images/Things/generated_image_Watch_4.png\n",
      "Saved image 5 for word 'Watch' in topic 'Things' to ./generated_images/Things/generated_image_Watch_5.png\n"
     ]
    },
    {
     "name": "stderr",
     "output_type": "stream",
     "text": [
      " 80%|████████  | 4/5 [27:03<06:45, 405.61s/it]"
     ]
    },
    {
     "name": "stdout",
     "output_type": "stream",
     "text": [
      "Saved image 1 for word 'School' in topic 'Places' to ./generated_images/Places/generated_image_School_1.png\n",
      "Saved image 2 for word 'School' in topic 'Places' to ./generated_images/Places/generated_image_School_2.png\n",
      "Saved image 3 for word 'School' in topic 'Places' to ./generated_images/Places/generated_image_School_3.png\n",
      "Saved image 4 for word 'School' in topic 'Places' to ./generated_images/Places/generated_image_School_4.png\n",
      "Saved image 5 for word 'School' in topic 'Places' to ./generated_images/Places/generated_image_School_5.png\n",
      "Saved image 1 for word 'House' in topic 'Places' to ./generated_images/Places/generated_image_House_1.png\n",
      "Saved image 2 for word 'House' in topic 'Places' to ./generated_images/Places/generated_image_House_2.png\n",
      "Saved image 3 for word 'House' in topic 'Places' to ./generated_images/Places/generated_image_House_3.png\n",
      "Saved image 4 for word 'House' in topic 'Places' to ./generated_images/Places/generated_image_House_4.png\n",
      "Saved image 5 for word 'House' in topic 'Places' to ./generated_images/Places/generated_image_House_5.png\n",
      "Saved image 1 for word 'Park' in topic 'Places' to ./generated_images/Places/generated_image_Park_1.png\n",
      "Saved image 2 for word 'Park' in topic 'Places' to ./generated_images/Places/generated_image_Park_2.png\n",
      "Saved image 3 for word 'Park' in topic 'Places' to ./generated_images/Places/generated_image_Park_3.png\n",
      "Saved image 4 for word 'Park' in topic 'Places' to ./generated_images/Places/generated_image_Park_4.png\n",
      "Saved image 5 for word 'Park' in topic 'Places' to ./generated_images/Places/generated_image_Park_5.png\n",
      "Saved image 1 for word 'Hospital' in topic 'Places' to ./generated_images/Places/generated_image_Hospital_1.png\n",
      "Saved image 2 for word 'Hospital' in topic 'Places' to ./generated_images/Places/generated_image_Hospital_2.png\n",
      "Saved image 3 for word 'Hospital' in topic 'Places' to ./generated_images/Places/generated_image_Hospital_3.png\n",
      "Saved image 4 for word 'Hospital' in topic 'Places' to ./generated_images/Places/generated_image_Hospital_4.png\n",
      "Saved image 5 for word 'Hospital' in topic 'Places' to ./generated_images/Places/generated_image_Hospital_5.png\n",
      "Saved image 1 for word 'Library' in topic 'Places' to ./generated_images/Places/generated_image_Library_1.png\n",
      "Saved image 2 for word 'Library' in topic 'Places' to ./generated_images/Places/generated_image_Library_2.png\n",
      "Saved image 3 for word 'Library' in topic 'Places' to ./generated_images/Places/generated_image_Library_3.png\n",
      "Saved image 4 for word 'Library' in topic 'Places' to ./generated_images/Places/generated_image_Library_4.png\n",
      "Saved image 5 for word 'Library' in topic 'Places' to ./generated_images/Places/generated_image_Library_5.png\n"
     ]
    },
    {
     "name": "stderr",
     "output_type": "stream",
     "text": [
      "100%|██████████| 5/5 [33:49<00:00, 405.95s/it]\n"
     ]
    }
   ],
   "source": [
    "# Function to generate and save images based on a dictionary of topics and words\n",
    "def generate_and_save_images(topics_dict, base_dir=\"./generated_images\"):\n",
    "    # Create the base directory to store all generated images\n",
    "    os.makedirs(base_dir, exist_ok=True)\n",
    "\n",
    "    # Iterate over each topic and the corresponding list of words\n",
    "    for topic, words_list in tqdm(translated_topics.items()):\n",
    "        # Create a subfolder for each topic\n",
    "        topic_dir = os.path.join(base_dir, topic)\n",
    "        os.makedirs(topic_dir, exist_ok=True)\n",
    "\n",
    "        # Iterate over each word in the list\n",
    "        for word in words_list:\n",
    "            # Generate images for the current word and topic using OpenAI Image Generation API\n",
    "            response = client.images.generate(\n",
    "                prompt=f\"Create a fun cartoon image of a {word} that belongs to the topic {topic}. The image should be safe for consumption by children less than 10 years for educational purposes. There should be no letters, numbers or any characters anywhere in the image.\",\n",
    "                size=\"256x256\",\n",
    "                n=5\n",
    "            )\n",
    "\n",
    "            # Save each generated image of each word to the corresponding topic's subfolder\n",
    "            for i, image_data in enumerate(response.data):\n",
    "                image_url = image_data.url  # Access the URL of the current image\n",
    "                \n",
    "                # Fetch the image from the URL\n",
    "                image_response = requests.get(image_url)\n",
    "                \n",
    "                # Create an image from the fetched URL content\n",
    "                image = Image.open(BytesIO(image_response.content))\n",
    "                \n",
    "                # Define the filename with the word and index\n",
    "                image_filename = f\"generated_image_{word}_{i+1}.png\"\n",
    "                \n",
    "                # Full path to save the image\n",
    "                image_path = os.path.join(topic_dir, image_filename)\n",
    "                \n",
    "                # Save the image locally\n",
    "                image.save(image_path)\n",
    "                print(f\"Saved image {i+1} for word '{word}' in topic '{topic}' to {image_path}\")\n",
    "\n",
    "            # Introduce a delay to stay within the rate limit of 5 images per minute \n",
    "            time.sleep(60)  # Wait for 60 seconds (1 minute) before the next request\n",
    "\n",
    "# Generate and save images for each topic and word in the dictionary\n",
    "generate_and_save_images(translated_topics)"
   ]
  }
 ],
 "metadata": {
  "kernelspec": {
   "display_name": "hindi",
   "language": "python",
   "name": "python3"
  },
  "language_info": {
   "codemirror_mode": {
    "name": "ipython",
    "version": 3
   },
   "file_extension": ".py",
   "mimetype": "text/x-python",
   "name": "python",
   "nbconvert_exporter": "python",
   "pygments_lexer": "ipython3",
   "version": "3.11.9"
  }
 },
 "nbformat": 4,
 "nbformat_minor": 2
}
